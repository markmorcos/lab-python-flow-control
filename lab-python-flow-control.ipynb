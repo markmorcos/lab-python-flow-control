{
 "cells": [
  {
   "cell_type": "markdown",
   "id": "d3bfc191-8885-42ee-b0a0-bbab867c6f9f",
   "metadata": {
    "tags": []
   },
   "source": [
    "# Lab | Flow Control"
   ]
  },
  {
   "cell_type": "markdown",
   "id": "3851fcd1-cf98-4653-9c89-e003b7ec9400",
   "metadata": {},
   "source": [
    "## Exercise: Managing Customer Orders Optimized\n",
    "\n",
    "In the last lab, you were starting an online store that sells various products. To ensure smooth operations, you developed a program that manages customer orders and inventory.\n",
    "\n",
    "You did so without using flow control. Let's go a step further and improve this code.\n",
    "\n",
    "Follow the steps below to complete the exercise:\n",
    "\n",
    "1. Look at your code from the lab data structures, and improve repeated code with loops.\n",
    "\n",
    "2. Instead of asking the user to input the name of three products that a customer wants to order, do the following:\n",
    "    \n",
    "    a. Prompt the user to enter the name of a product that a customer wants to order.\n",
    "    \n",
    "    b. Add the product name to the \"customer_orders\" set.\n",
    "    \n",
    "    c. Ask the user if they want to add another product (yes/no).\n",
    "    \n",
    "    d. Continue the loop until the user does not want to add another product.\n",
    "\n",
    "3. Instead of updating the inventory by subtracting 1 from the quantity of each product, only do it for  the products that were ordered (those in \"customer_orders\")."
   ]
  },
  {
   "cell_type": "code",
   "execution_count": 8,
   "id": "cb9c6b8d-0f53-4fee-970d-71c426ed314f",
   "metadata": {},
   "outputs": [],
   "source": [
    "# 1.\n",
    "products = [\"t-shirt\", \"mug\", \"hat\", \"book\", \"keychain\"]"
   ]
  },
  {
   "cell_type": "code",
   "execution_count": 10,
   "id": "b9eb440c-4b77-42a3-82fe-90621a9acdb6",
   "metadata": {},
   "outputs": [],
   "source": [
    "# 2.\n",
    "inventory = {}"
   ]
  },
  {
   "cell_type": "code",
   "execution_count": 13,
   "id": "356e1b27-5029-45d4-9398-071650057246",
   "metadata": {},
   "outputs": [
    {
     "name": "stdin",
     "output_type": "stream",
     "text": [
      "t-shirt quantity: 2\n",
      "mug quantity: 5\n",
      "hat quantity: 3\n",
      "book quantity: 1\n",
      "keychain quantity: 6\n"
     ]
    }
   ],
   "source": [
    "# 3.\n",
    "for product in products:\n",
    "    quantity = int(input(f\"{product} quantity:\"))\n",
    "    inventory[product] = quantity"
   ]
  },
  {
   "cell_type": "code",
   "execution_count": 43,
   "id": "b21d165b-16aa-4bcb-916f-0ffb57d5abda",
   "metadata": {},
   "outputs": [],
   "source": [
    "# 4.\n",
    "customer_orders = set()"
   ]
  },
  {
   "cell_type": "code",
   "execution_count": 45,
   "id": "41428604-90a9-40e6-9864-85b5a177960a",
   "metadata": {},
   "outputs": [
    {
     "name": "stdin",
     "output_type": "stream",
     "text": [
      "Enter a product to order: mug\n"
     ]
    },
    {
     "name": "stdout",
     "output_type": "stream",
     "text": [
      "mug added to cart\n"
     ]
    },
    {
     "name": "stdin",
     "output_type": "stream",
     "text": [
      "Do you want to add more products? (yes/no) yes\n",
      "Enter a product to order: pants\n"
     ]
    },
    {
     "name": "stdout",
     "output_type": "stream",
     "text": [
      "pants does not exist\n"
     ]
    },
    {
     "name": "stdin",
     "output_type": "stream",
     "text": [
      "Do you want to add more products? (yes/no) yes\n",
      "Enter a product to order: t-shirt\n"
     ]
    },
    {
     "name": "stdout",
     "output_type": "stream",
     "text": [
      "t-shirt added to cart\n"
     ]
    },
    {
     "name": "stdin",
     "output_type": "stream",
     "text": [
      "Do you want to add more products? (yes/no) no\n"
     ]
    }
   ],
   "source": [
    "# 5.\n",
    "while True:\n",
    "    product = input(\"Enter a product to order:\")\n",
    "    if product in products:\n",
    "        if product in customer_orders: print(f\"{product} already in cart\")\n",
    "        else: print(f\"{product} added to cart\")\n",
    "        customer_orders.add(product)\n",
    "    else: print(f\"{product} does not exist\")\n",
    "    prompt = input(\"Do you want to add more products? (yes/no)\")\n",
    "    if prompt != \"yes\": break"
   ]
  },
  {
   "cell_type": "code",
   "execution_count": 48,
   "id": "759f2676-238d-4248-9847-4ab6d0b56d07",
   "metadata": {},
   "outputs": [
    {
     "name": "stdout",
     "output_type": "stream",
     "text": [
      "{'mug', 't-shirt'}\n"
     ]
    }
   ],
   "source": [
    "# 6.\n",
    "print(customer_orders)"
   ]
  },
  {
   "cell_type": "code",
   "execution_count": 54,
   "id": "73e97eb2-7ff3-4e96-b693-b550fb3dea8d",
   "metadata": {},
   "outputs": [],
   "source": [
    "# 7.\n",
    "total_products_ordered = len(customer_orders)\n",
    "total_inventory = sum([i for i in inventory.values()])\n",
    "products_ordered_percentage = total_products_ordered / total_inventory\n",
    "order_status = (total_products_ordered, products_ordered_percentage)"
   ]
  },
  {
   "cell_type": "code",
   "execution_count": 65,
   "id": "23bb5104-12e0-458c-8447-cc06a4b85e87",
   "metadata": {},
   "outputs": [
    {
     "name": "stdout",
     "output_type": "stream",
     "text": [
      "Order Statistics:\n",
      "Total Products Ordered: 2\n",
      "Percentage of Products Ordered: 0.12%\n"
     ]
    }
   ],
   "source": [
    "# 8.\n",
    "print(\"Order Statistics:\")\n",
    "print(f\"Total Products Ordered: {order_status[0]}\")\n",
    "print(f\"Percentage of Products Ordered: {round(order_status[1], 2)}%\")"
   ]
  },
  {
   "cell_type": "code",
   "execution_count": 68,
   "id": "636ab2a2-e928-4d47-8347-661f348b2e5c",
   "metadata": {},
   "outputs": [],
   "source": [
    "# 9.\n",
    "for product in customer_orders: inventory[product] -= 1"
   ]
  },
  {
   "cell_type": "code",
   "execution_count": 71,
   "id": "54e496ee-e05b-485f-8383-70f3bfaa8395",
   "metadata": {},
   "outputs": [
    {
     "name": "stdout",
     "output_type": "stream",
     "text": [
      "{'t-shirt': 1, 'mug': 4, 'hat': 3, 'book': 1, 'keychain': 6}\n"
     ]
    }
   ],
   "source": [
    "# 10.\n",
    "print(inventory)"
   ]
  }
 ],
 "metadata": {
  "kernelspec": {
   "display_name": "Python 3 (ipykernel)",
   "language": "python",
   "name": "python3"
  },
  "language_info": {
   "codemirror_mode": {
    "name": "ipython",
    "version": 3
   },
   "file_extension": ".py",
   "mimetype": "text/x-python",
   "name": "python",
   "nbconvert_exporter": "python",
   "pygments_lexer": "ipython3",
   "version": "3.12.4"
  }
 },
 "nbformat": 4,
 "nbformat_minor": 5
}
